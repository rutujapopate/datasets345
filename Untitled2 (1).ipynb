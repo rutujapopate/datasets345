{
  "nbformat": 4,
  "nbformat_minor": 0,
  "metadata": {
    "colab": {
      "provenance": []
    },
    "kernelspec": {
      "name": "python3",
      "display_name": "Python 3"
    },
    "language_info": {
      "name": "python"
    }
  },
  "cells": [
    {
      "cell_type": "code",
      "source": [
        "def recur_fibo(n):\n",
        "  if n<=1:\n",
        "    return n\n",
        "  else:\n",
        "    return(recur_fibo(n-1)+recur_fibo(n-2))\n",
        "#take the input from the user\n",
        "nterms= int(input(\"How many terms ?\"))\n",
        "#check if the number of terms is valid\n",
        "if nterms<=0:\n",
        "  print(\"Please enter a positive integer\")\n",
        "else:\n",
        "  print(\"Fibonacci sequence:\")\n",
        "  for i in range(nterms):\n",
        "    print(recur_fibo(i))  "
      ],
      "metadata": {
        "colab": {
          "base_uri": "https://localhost:8080/"
        },
        "id": "qKQ6mEmqDhN6",
        "outputId": "2055d97b-2454-4b76-8ab9-adb8f3f8454e"
      },
      "execution_count": null,
      "outputs": [
        {
          "output_type": "stream",
          "name": "stdout",
          "text": [
            "How many terms ?5\n",
            "Fibonacci sequence:\n",
            "0\n",
            "1\n",
            "1\n",
            "2\n",
            "3\n"
          ]
        }
      ]
    }
  ]
}