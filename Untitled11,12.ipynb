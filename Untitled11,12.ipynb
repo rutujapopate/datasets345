{
  "nbformat": 4,
  "nbformat_minor": 0,
  "metadata": {
    "colab": {
      "provenance": []
    },
    "kernelspec": {
      "name": "python3",
      "display_name": "Python 3"
    },
    "language_info": {
      "name": "python"
    }
  },
  "cells": [
    {
      "cell_type": "code",
      "execution_count": null,
      "metadata": {
        "id": "eZ2k_jDa14mH"
      },
      "outputs": [],
      "source": [
        "//SPDX-License-Identifier:Unlicensed\n",
        "pragma solidity ^0.6.0;\n",
        "contract MyBank\n",
        "{\n",
        " mapping(address=> uint ) private _balances;\n",
        " address public owner;\n",
        " event LogDepositeMade(address accountHoder, uint amount );\n",
        " constructor () public\n",
        " {\n",
        " owner=msg.sender;\n",
        " emit LogDepositeMade(msg.sender, 1000);\n",
        " }\n",
        " function deposite() public payable returns (uint)\n",
        " {\n",
        " require ((_balances[msg.sender] + msg.value) > _balances[msg.sender] && \n",
        "msg.sender!=address(0));\n",
        " _balances[msg.sender] += msg.value;\n",
        " emit LogDepositeMade(msg.sender , msg.value);\n",
        " return _balances[msg.sender];\n",
        " } \n",
        " function withdraw (uint withdrawAmount) public returns (uint)\n",
        " {\n",
        " require (_balances[msg.sender] >= withdrawAmount);\n",
        " require(msg.sender!=address(0));\n",
        " require (_balances[msg.sender] > 0);\n",
        " _balances[msg.sender]-= withdrawAmount;\n",
        " msg.sender.transfer(withdrawAmount);\n",
        " emit LogDepositeMade(msg.sender , withdrawAmount);\n",
        " return _balances[msg.sender];\n",
        " }\n",
        "function viewBalance() public view returns (uint)\n",
        " {\n",
        " return _balances[msg.sender];\n",
        " }\n",
        "}"
      ]
    },
    {
      "cell_type": "code",
      "source": [
        "//SPDX-License-Identifier: Unlicensed\n",
        "pragma solidity ^0.8.0;\n",
        "\n",
        "contract Database{\n",
        "\n",
        "struct student{\n",
        "int ID;\n",
        "string _fname;\n",
        "string _lname;\n",
        "}\n",
        "\n",
        "int public Count = 0;\n",
        "\n",
        "mapping(int => student) public stdRecords;\n",
        "\n",
        "function addNew(int _id, string calldata _fname, string calldata _lname) public{\n",
        "Count+=1;\n",
        "stdRecords[Count] = student(_id, _fname, _lname);\n",
        "}\n",
        "event received(address user, uint amount);\n",
        "\n",
        "receive() external payable{\n",
        "emit received(msg.sender, msg.value);\n",
        "}\n",
        "\n",
        "}\n",
        " \n"
      ],
      "metadata": {
        "id": "yNgY5R5P2JMI"
      },
      "execution_count": null,
      "outputs": []
    }
  ]
}