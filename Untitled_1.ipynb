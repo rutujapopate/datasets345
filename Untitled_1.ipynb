{
  "nbformat": 4,
  "nbformat_minor": 0,
  "metadata": {
    "colab": {
      "provenance": []
    },
    "kernelspec": {
      "name": "python3",
      "display_name": "Python 3"
    },
    "language_info": {
      "name": "python"
    }
  },
  "cells": [
    {
      "cell_type": "code",
      "execution_count": null,
      "metadata": {
        "colab": {
          "base_uri": "https://localhost:8080/"
        },
        "id": "jZzXq28J-m8S",
        "outputId": "463035b0-dab6-4a05-8560-5c7c0d0d5a44"
      },
      "outputs": [
        {
          "output_type": "stream",
          "name": "stdout",
          "text": [
            "Enter the first number of thr series: 5\n",
            "Enter the second number of thr series: 4\n",
            "Enter the number of terms needed: 4\n",
            "5 4 9 13 "
          ]
        }
      ],
      "source": [
        "a=int(input(\"Enter the first number of thr series: \"))\n",
        "b=int(input(\"Enter the second number of thr series: \"))\n",
        "n=int(input(\"Enter the number of terms needed: \"))\n",
        "print(a,b,end= \" \")\n",
        "while(n-2):\n",
        "  c=a+b\n",
        "  a=b\n",
        "  b=c\n",
        "  print(c,end= \" \")\n",
        "  n=n-1"
      ]
    }
  ]
}