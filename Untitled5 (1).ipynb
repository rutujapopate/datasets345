{
  "nbformat": 4,
  "nbformat_minor": 0,
  "metadata": {
    "colab": {
      "provenance": []
    },
    "kernelspec": {
      "name": "python3",
      "display_name": "Python 3"
    },
    "language_info": {
      "name": "python"
    }
  },
  "cells": [
    {
      "cell_type": "code",
      "execution_count": null,
      "metadata": {
        "colab": {
          "base_uri": "https://localhost:8080/"
        },
        "id": "nsVcievqDwGi",
        "outputId": "5ba3dc96-e04e-45c2-9a35-ac2372c530dc"
      },
      "outputs": [
        {
          "output_type": "stream",
          "name": "stdout",
          "text": [
            "Unsorted Array\n",
            "[1, 7, 4, 1, 10, 9, -2]\n",
            "Sorted Array in Ascending Order:\n",
            "[-2, 1, 1, 4, 7, 9, 10]\n"
          ]
        }
      ],
      "source": [
        "def partition(array, low, high):\n",
        "\tpivot = array[high]\n",
        "\ti = low - 1\n",
        "\tfor j in range(low, high):\n",
        "\t\tif array[j] <= pivot:\n",
        "\t\t\ti = i + 1\n",
        "\t\t\t(array[i], array[j]) = (array[j], array[i])\n",
        "\t(array[i + 1], array[high]) = (array[high], array[i + 1])\n",
        "\treturn i + 1\n",
        "def quickSort(array, low, high):\n",
        "\tif low < high:\n",
        "\t\tpi = partition(array, low, high)\n",
        "\t\tquickSort(array, low, pi - 1)\n",
        "\t\tquickSort(array, pi + 1, high)\n",
        "data = [1, 7, 4, 1, 10, 9, -2]\n",
        "print(\"Unsorted Array\")\n",
        "print(data)\n",
        "size = len(data)\n",
        "quickSort(data, 0, size - 1)\n",
        "print('Sorted Array in Ascending Order:')\n",
        "print(data)\n"
      ]
    }
  ]
}